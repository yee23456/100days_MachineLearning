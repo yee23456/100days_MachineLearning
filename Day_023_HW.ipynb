{
  "nbformat": 4,
  "nbformat_minor": 0,
  "metadata": {
    "kernelspec": {
      "display_name": "Python 3",
      "language": "python",
      "name": "python3"
    },
    "language_info": {
      "codemirror_mode": {
        "name": "ipython",
        "version": 3
      },
      "file_extension": ".py",
      "mimetype": "text/x-python",
      "name": "python",
      "nbconvert_exporter": "python",
      "pygments_lexer": "ipython3",
      "version": "3.6.1"
    },
    "colab": {
      "name": "Day_023_HW.ipynb",
      "provenance": []
    }
  },
  "cells": [
    {
      "cell_type": "markdown",
      "metadata": {
        "collapsed": true,
        "id": "huSHSrRNxUNN"
      },
      "source": [
        "# 作業 : (Kaggle)鐵達尼生存預測 \n",
        "https://www.kaggle.com/c/titanic"
      ]
    },
    {
      "cell_type": "markdown",
      "metadata": {
        "id": "hCLbCgeHxUNO"
      },
      "source": [
        "# [作業目標]\n",
        "- 試著模仿範例寫法, 在鐵達尼生存預測中, 觀察降低偏態的影響"
      ]
    },
    {
      "cell_type": "markdown",
      "metadata": {
        "id": "B9dvpReKxUNO"
      },
      "source": [
        "# [作業重點]\n",
        "- 觀察使用log1p降偏態時, 對於分布與迴歸分數的影響 (In[6], Out[6])\n",
        "- 修正區塊中的資料問題後, 觀察以box-cox降偏態, 對於分布與迴歸分數的影響 (In[7], Out[7])"
      ]
    },
    {
      "cell_type": "code",
      "metadata": {
        "colab": {
          "base_uri": "https://localhost:8080/",
          "height": 255
        },
        "id": "147axvTKxUNO",
        "outputId": "b4b2fdd6-ba81-4493-9393-9009f2b015d4"
      },
      "source": [
        "# 做完特徵工程前的所有準備 (與前範例相同)\n",
        "import pandas as pd\n",
        "import numpy as np\n",
        "import copy\n",
        "from sklearn.preprocessing import MinMaxScaler\n",
        "from sklearn.model_selection import cross_val_score\n",
        "from sklearn.linear_model import LogisticRegression\n",
        "\n",
        "data_path = 'data/'\n",
        "df_train = pd.read_csv('titanic_train.csv')\n",
        "df_test = pd.read_csv('titanic_test.csv')\n",
        "\n",
        "train_Y = df_train['Survived']\n",
        "ids = df_test['PassengerId']\n",
        "df_train = df_train.drop(['PassengerId', 'Survived'] , axis=1)\n",
        "df_test = df_test.drop(['PassengerId'] , axis=1)\n",
        "df = pd.concat([df_train,df_test])\n",
        "df.head()"
      ],
      "execution_count": 1,
      "outputs": [
        {
          "output_type": "execute_result",
          "data": {
            "text/html": [
              "<div>\n",
              "<style scoped>\n",
              "    .dataframe tbody tr th:only-of-type {\n",
              "        vertical-align: middle;\n",
              "    }\n",
              "\n",
              "    .dataframe tbody tr th {\n",
              "        vertical-align: top;\n",
              "    }\n",
              "\n",
              "    .dataframe thead th {\n",
              "        text-align: right;\n",
              "    }\n",
              "</style>\n",
              "<table border=\"1\" class=\"dataframe\">\n",
              "  <thead>\n",
              "    <tr style=\"text-align: right;\">\n",
              "      <th></th>\n",
              "      <th>Pclass</th>\n",
              "      <th>Name</th>\n",
              "      <th>Sex</th>\n",
              "      <th>Age</th>\n",
              "      <th>SibSp</th>\n",
              "      <th>Parch</th>\n",
              "      <th>Ticket</th>\n",
              "      <th>Fare</th>\n",
              "      <th>Cabin</th>\n",
              "      <th>Embarked</th>\n",
              "    </tr>\n",
              "  </thead>\n",
              "  <tbody>\n",
              "    <tr>\n",
              "      <th>0</th>\n",
              "      <td>3</td>\n",
              "      <td>Braund, Mr. Owen Harris</td>\n",
              "      <td>male</td>\n",
              "      <td>22.0</td>\n",
              "      <td>1</td>\n",
              "      <td>0</td>\n",
              "      <td>A/5 21171</td>\n",
              "      <td>7.2500</td>\n",
              "      <td>NaN</td>\n",
              "      <td>S</td>\n",
              "    </tr>\n",
              "    <tr>\n",
              "      <th>1</th>\n",
              "      <td>1</td>\n",
              "      <td>Cumings, Mrs. John Bradley (Florence Briggs Th...</td>\n",
              "      <td>female</td>\n",
              "      <td>38.0</td>\n",
              "      <td>1</td>\n",
              "      <td>0</td>\n",
              "      <td>PC 17599</td>\n",
              "      <td>71.2833</td>\n",
              "      <td>C85</td>\n",
              "      <td>C</td>\n",
              "    </tr>\n",
              "    <tr>\n",
              "      <th>2</th>\n",
              "      <td>3</td>\n",
              "      <td>Heikkinen, Miss. Laina</td>\n",
              "      <td>female</td>\n",
              "      <td>26.0</td>\n",
              "      <td>0</td>\n",
              "      <td>0</td>\n",
              "      <td>STON/O2. 3101282</td>\n",
              "      <td>7.9250</td>\n",
              "      <td>NaN</td>\n",
              "      <td>S</td>\n",
              "    </tr>\n",
              "    <tr>\n",
              "      <th>3</th>\n",
              "      <td>1</td>\n",
              "      <td>Futrelle, Mrs. Jacques Heath (Lily May Peel)</td>\n",
              "      <td>female</td>\n",
              "      <td>35.0</td>\n",
              "      <td>1</td>\n",
              "      <td>0</td>\n",
              "      <td>113803</td>\n",
              "      <td>53.1000</td>\n",
              "      <td>C123</td>\n",
              "      <td>S</td>\n",
              "    </tr>\n",
              "    <tr>\n",
              "      <th>4</th>\n",
              "      <td>3</td>\n",
              "      <td>Allen, Mr. William Henry</td>\n",
              "      <td>male</td>\n",
              "      <td>35.0</td>\n",
              "      <td>0</td>\n",
              "      <td>0</td>\n",
              "      <td>373450</td>\n",
              "      <td>8.0500</td>\n",
              "      <td>NaN</td>\n",
              "      <td>S</td>\n",
              "    </tr>\n",
              "  </tbody>\n",
              "</table>\n",
              "</div>"
            ],
            "text/plain": [
              "   Pclass                                               Name  ... Cabin  Embarked\n",
              "0       3                            Braund, Mr. Owen Harris  ...   NaN         S\n",
              "1       1  Cumings, Mrs. John Bradley (Florence Briggs Th...  ...   C85         C\n",
              "2       3                             Heikkinen, Miss. Laina  ...   NaN         S\n",
              "3       1       Futrelle, Mrs. Jacques Heath (Lily May Peel)  ...  C123         S\n",
              "4       3                           Allen, Mr. William Henry  ...   NaN         S\n",
              "\n",
              "[5 rows x 10 columns]"
            ]
          },
          "metadata": {
            "tags": []
          },
          "execution_count": 1
        }
      ]
    },
    {
      "cell_type": "code",
      "metadata": {
        "colab": {
          "base_uri": "https://localhost:8080/",
          "height": 238
        },
        "id": "RpZGsLAVxUNO",
        "outputId": "3c83c043-afe5-4159-9578-6d6796e9b59e"
      },
      "source": [
        "#只取 int64, float64 兩種數值型欄位, 存於 num_features 中\n",
        "num_features = []\n",
        "for dtype, feature in zip(df.dtypes, df.columns):\n",
        "    if dtype == 'float64' or dtype == 'int64':\n",
        "        num_features.append(feature)\n",
        "print(f'{len(num_features)} Numeric Features : {num_features}\\n')\n",
        "\n",
        "# 削減文字型欄位, 只剩數值型欄位\n",
        "df = df[num_features]\n",
        "df = df.fillna(0)\n",
        "MMEncoder = MinMaxScaler()\n",
        "train_num = train_Y.shape[0]\n",
        "df.head()"
      ],
      "execution_count": 2,
      "outputs": [
        {
          "output_type": "stream",
          "text": [
            "5 Numeric Features : ['Pclass', 'Age', 'SibSp', 'Parch', 'Fare']\n",
            "\n"
          ],
          "name": "stdout"
        },
        {
          "output_type": "execute_result",
          "data": {
            "text/html": [
              "<div>\n",
              "<style scoped>\n",
              "    .dataframe tbody tr th:only-of-type {\n",
              "        vertical-align: middle;\n",
              "    }\n",
              "\n",
              "    .dataframe tbody tr th {\n",
              "        vertical-align: top;\n",
              "    }\n",
              "\n",
              "    .dataframe thead th {\n",
              "        text-align: right;\n",
              "    }\n",
              "</style>\n",
              "<table border=\"1\" class=\"dataframe\">\n",
              "  <thead>\n",
              "    <tr style=\"text-align: right;\">\n",
              "      <th></th>\n",
              "      <th>Pclass</th>\n",
              "      <th>Age</th>\n",
              "      <th>SibSp</th>\n",
              "      <th>Parch</th>\n",
              "      <th>Fare</th>\n",
              "    </tr>\n",
              "  </thead>\n",
              "  <tbody>\n",
              "    <tr>\n",
              "      <th>0</th>\n",
              "      <td>3</td>\n",
              "      <td>22.0</td>\n",
              "      <td>1</td>\n",
              "      <td>0</td>\n",
              "      <td>7.2500</td>\n",
              "    </tr>\n",
              "    <tr>\n",
              "      <th>1</th>\n",
              "      <td>1</td>\n",
              "      <td>38.0</td>\n",
              "      <td>1</td>\n",
              "      <td>0</td>\n",
              "      <td>71.2833</td>\n",
              "    </tr>\n",
              "    <tr>\n",
              "      <th>2</th>\n",
              "      <td>3</td>\n",
              "      <td>26.0</td>\n",
              "      <td>0</td>\n",
              "      <td>0</td>\n",
              "      <td>7.9250</td>\n",
              "    </tr>\n",
              "    <tr>\n",
              "      <th>3</th>\n",
              "      <td>1</td>\n",
              "      <td>35.0</td>\n",
              "      <td>1</td>\n",
              "      <td>0</td>\n",
              "      <td>53.1000</td>\n",
              "    </tr>\n",
              "    <tr>\n",
              "      <th>4</th>\n",
              "      <td>3</td>\n",
              "      <td>35.0</td>\n",
              "      <td>0</td>\n",
              "      <td>0</td>\n",
              "      <td>8.0500</td>\n",
              "    </tr>\n",
              "  </tbody>\n",
              "</table>\n",
              "</div>"
            ],
            "text/plain": [
              "   Pclass   Age  SibSp  Parch     Fare\n",
              "0       3  22.0      1      0   7.2500\n",
              "1       1  38.0      1      0  71.2833\n",
              "2       3  26.0      0      0   7.9250\n",
              "3       1  35.0      1      0  53.1000\n",
              "4       3  35.0      0      0   8.0500"
            ]
          },
          "metadata": {
            "tags": []
          },
          "execution_count": 2
        }
      ]
    },
    {
      "cell_type": "code",
      "metadata": {
        "colab": {
          "base_uri": "https://localhost:8080/",
          "height": 333
        },
        "id": "7hOB-ioPxUNP",
        "outputId": "a5e472ac-f41a-4adc-c57c-17f97dedf945"
      },
      "source": [
        "# 顯示 Fare 與目標值的散佈圖\n",
        "import seaborn as sns\n",
        "import matplotlib.pyplot as plt\n",
        "sns.distplot(df['Fare'][:train_num])\n",
        "plt.show()"
      ],
      "execution_count": 3,
      "outputs": [
        {
          "output_type": "stream",
          "text": [
            "/usr/local/lib/python3.7/dist-packages/seaborn/distributions.py:2557: FutureWarning: `distplot` is a deprecated function and will be removed in a future version. Please adapt your code to use either `displot` (a figure-level function with similar flexibility) or `histplot` (an axes-level function for histograms).\n",
            "  warnings.warn(msg, FutureWarning)\n"
          ],
          "name": "stderr"
        },
        {
          "output_type": "display_data",
          "data": {
            "image/png": "[encoded data removed]",
            "text/plain": [
              "<Figure size 432x288 with 1 Axes>"
            ]
          },
          "metadata": {
            "tags": [],
            "needs_background": "light"
          }
        }
      ]
    },
    {
      "cell_type": "code",
      "metadata": {
        "colab": {
          "base_uri": "https://localhost:8080/"
        },
        "id": "lW49tgZixUNP",
        "outputId": "667a6b9c-8885-4a41-a3b9-cd3f981ec2e4"
      },
      "source": [
        "# 計算基礎分數\n",
        "df_mm = MMEncoder.fit_transform(df)\n",
        "train_X = df_mm[:train_num]\n",
        "estimator = LogisticRegression()\n",
        "cross_val_score(estimator, train_X, train_Y, cv=5).mean()"
      ],
      "execution_count": 4,
      "outputs": [
        {
          "output_type": "execute_result",
          "data": {
            "text/plain": [
              "0.7015378821166279"
            ]
          },
          "metadata": {
            "tags": []
          },
          "execution_count": 4
        }
      ]
    },
    {
      "cell_type": "markdown",
      "metadata": {
        "id": "50Vg-2S6xUNP"
      },
      "source": [
        "# 作業1 \n",
        "* 試著在鐵達尼的票價 (Fare) 欄位中使用對數去偏 (log1p) , 結果是否更好?"
      ]
    },
    {
      "cell_type": "code",
      "metadata": {
        "collapsed": true,
        "colab": {
          "base_uri": "https://localhost:8080/",
          "height": 350
        },
        "id": "F39jm-VRxUNP",
        "outputId": "3db76010-1bf4-4602-ffc5-5e656e9532ae"
      },
      "source": [
        "# 將 Fare 取 log1p 後, 看散佈圖, 並計算分數\n",
        "df_fixed = copy.deepcopy(df)\n",
        "\"\"\"\n",
        "Your Code Here, transform df_fixed['Fare'] with log1p\n",
        "\"\"\"\n",
        "df_fixed['Fare'] = np.log1p(df_fixed['Fare'])\n",
        "sns.distplot(df_fixed['Fare'][:train_num])\n",
        "plt.show()\n",
        "\n",
        "df_fixed = MMEncoder.fit_transform(df_fixed)\n",
        "train_X = df_fixed[:train_num]\n",
        "estimator = LogisticRegression()\n",
        "cross_val_score(estimator, train_X, train_Y, cv=5).mean()"
      ],
      "execution_count": 7,
      "outputs": [
        {
          "output_type": "stream",
          "text": [
            "/usr/local/lib/python3.7/dist-packages/seaborn/distributions.py:2557: FutureWarning: `distplot` is a deprecated function and will be removed in a future version. Please adapt your code to use either `displot` (a figure-level function with similar flexibility) or `histplot` (an axes-level function for histograms).\n",
            "  warnings.warn(msg, FutureWarning)\n"
          ],
          "name": "stderr"
        },
        {
          "output_type": "display_data",
          "data": {
            "image/png": "[encoded data removed]",
            "text/plain": [
              "<Figure size 432x288 with 1 Axes>"
            ]
          },
          "metadata": {
            "tags": [],
            "needs_background": "light"
          }
        },
        {
          "output_type": "execute_result",
          "data": {
            "text/plain": [
              "0.710545477371163"
            ]
          },
          "metadata": {
            "tags": []
          },
          "execution_count": 7
        }
      ]
    },
    {
      "cell_type": "markdown",
      "metadata": {
        "id": "bOld2L59xUNP"
      },
      "source": [
        "# 作業2\n",
        "* 最後的 boxcox 區塊直接執行會造成錯誤, 起因為輸入值有負值, 請問如何修正後可以使用 boxcox? (Hint : 試圖修正資料)"
      ]
    },
    {
      "cell_type": "code",
      "metadata": {
        "collapsed": true,
        "colab": {
          "base_uri": "https://localhost:8080/",
          "height": 350
        },
        "id": "XjaYsjGKxUNP",
        "outputId": "ea9aa2e3-05b7-4025-99fd-934fa79ec403"
      },
      "source": [
        "# 將 Fare 取 boxcox 後, 看散佈圖, 並計算分數 (執行會有 error, 請試圖修正)\n",
        "\n",
        "from scipy import stats\n",
        "df_fixed = copy.deepcopy(df)\n",
        "\"\"\"\n",
        "Your Code Here, fix the error\n",
        "\"\"\"\n",
        "df_fixed['Fare'] = df_fixed['Fare'].apply(lambda x:x+df_fixed['Fare'].min()+1)\n",
        "df_fixed['Fare'] = stats.boxcox(df_fixed['Fare'])[0]\n",
        "sns.distplot(df_fixed['Fare'][:train_num])\n",
        "plt.show()\n",
        "\n",
        "df_fixed = MMEncoder.fit_transform(df_fixed)\n",
        "train_X = df_fixed[:train_num]\n",
        "estimator = LogisticRegression()\n",
        "cross_val_score(estimator, train_X, train_Y, cv=5).mean()"
      ],
      "execution_count": 21,
      "outputs": [
        {
          "output_type": "stream",
          "text": [
            "/usr/local/lib/python3.7/dist-packages/seaborn/distributions.py:2557: FutureWarning: `distplot` is a deprecated function and will be removed in a future version. Please adapt your code to use either `displot` (a figure-level function with similar flexibility) or `histplot` (an axes-level function for histograms).\n",
            "  warnings.warn(msg, FutureWarning)\n"
          ],
          "name": "stderr"
        },
        {
          "output_type": "display_data",
          "data": {
            "image/png": "[encoded data removed]",
            "text/plain": [
              "<Figure size 432x288 with 1 Axes>"
            ]
          },
          "metadata": {
            "tags": [],
            "needs_background": "light"
          }
        },
        {
          "output_type": "execute_result",
          "data": {
            "text/plain": [
              "0.7094218818655451"
            ]
          },
          "metadata": {
            "tags": []
          },
          "execution_count": 21
        }
      ]
    }
  ]
}