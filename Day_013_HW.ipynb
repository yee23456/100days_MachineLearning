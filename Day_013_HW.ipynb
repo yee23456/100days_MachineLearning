{
  "nbformat": 4,
  "nbformat_minor": 0,
  "metadata": {
    "anaconda-cloud": {},
    "kernelspec": {
      "display_name": "Python 3",
      "language": "python",
      "name": "python3"
    },
    "language_info": {
      "codemirror_mode": {
        "name": "ipython",
        "version": 3
      },
      "file_extension": ".py",
      "mimetype": "text/x-python",
      "name": "python",
      "nbconvert_exporter": "python",
      "pygments_lexer": "ipython3",
      "version": "3.6.1"
    },
    "colab": {
      "name": "Day_013_HW.ipynb",
      "provenance": [],
      "collapsed_sections": []
    }
  },
  "cells": [
    {
      "cell_type": "markdown",
      "metadata": {
        "id": "5je5DxS2_LHx"
      },
      "source": [
        "# 常用的 DataFrame 操作\n",
        "* merge / transform\n",
        "* subset\n",
        "* groupby"
      ]
    },
    {
      "cell_type": "markdown",
      "metadata": {
        "id": "wrF00sNP_LHy"
      },
      "source": [
        "# [作業目標]\n",
        "- 練習填入對應的欄位資料或公式, 完成題目的要求 "
      ]
    },
    {
      "cell_type": "markdown",
      "metadata": {
        "id": "LIvPwnQM_LHy"
      },
      "source": [
        "# [作業重點]\n",
        "- 填入適當的輸入資料, 讓後面的程式顯示題目要求的結果 (Hint: 填入對應區間或欄位即可, In[4]~In[6], Out[4]~In[6])\n",
        "- 填入z轉換的計算方式, 完成轉換後的數值 (Hint: 參照標準化公式, In[7])"
      ]
    },
    {
      "cell_type": "code",
      "metadata": {
        "collapsed": true,
        "id": "-0gnpEr9_LHy"
      },
      "source": [
        "# Import 需要的套件\n",
        "import os\n",
        "import numpy as np\n",
        "import pandas as pd\n",
        "import matplotlib.pyplot as plt\n",
        "\n",
        "%matplotlib inline"
      ],
      "execution_count": 2,
      "outputs": []
    },
    {
      "cell_type": "code",
      "metadata": {
        "collapsed": true,
        "id": "pmj-gqRy_LHy"
      },
      "source": [
        "# 設定 data_path\n",
        "dir_data = './data/'"
      ],
      "execution_count": 3,
      "outputs": []
    },
    {
      "cell_type": "code",
      "metadata": {
        "id": "9ZIESdJVFqRx"
      },
      "source": [
        "app_train = pd.read_csv('application_train.csv')"
      ],
      "execution_count": 5,
      "outputs": []
    },
    {
      "cell_type": "code",
      "metadata": {
        "id": "080VjyUZ_LHy"
      },
      "source": [
        "#f_app = os.path.join(dir_data, 'application_train.csv')\n",
        "#print('Path of read in data: %s' % (f_app))\n",
        "#app_train = pd.read_csv(f_app)\n",
        "#app_train.head()"
      ],
      "execution_count": 7,
      "outputs": []
    },
    {
      "cell_type": "markdown",
      "metadata": {
        "id": "uR6IULZh_LHz"
      },
      "source": [
        "## 作業\n",
        "1. 請將 app_train 中的 CNT_CHILDREN 依照下列規則分為四組，並將其結果在原本的 dataframe 命名為 CNT_CHILDREN_GROUP\n",
        "    * 0 個小孩\n",
        "    * 有 1 - 2 個小孩\n",
        "    * 有 3 - 5 個小孩\n",
        "    * 有超過 5 個小孩\n",
        "\n",
        "2. 請根據 CNT_CHILDREN_GROUP 以及 TARGET，列出各組的平均 AMT_INCOME_TOTAL，並繪製 baxplot\n",
        "3. 請根據 CNT_CHILDREN_GROUP 以及 TARGET，對 AMT_INCOME_TOTAL 計算 [Z 轉換](https://en.wikipedia.org/wiki/Standard_score) 後的分數"
      ]
    },
    {
      "cell_type": "code",
      "metadata": {
        "collapsed": true,
        "colab": {
          "base_uri": "https://localhost:8080/"
        },
        "id": "zCTGgJqX_LHz",
        "outputId": "c0636876-74e8-4c4e-f0e4-06fb0a85af56"
      },
      "source": [
        "#1\n",
        "\"\"\"\n",
        "Your code here\n",
        "\"\"\"\n",
        "cut_rule = [-1,0,2,5,100]\n",
        "\n",
        "app_train['CNT_CHILDREN_GROUP'] = pd.cut(app_train['CNT_CHILDREN'].values, cut_rule, include_lowest=True)\n",
        "app_train['CNT_CHILDREN_GROUP'].value_counts()"
      ],
      "execution_count": 8,
      "outputs": [
        {
          "output_type": "execute_result",
          "data": {
            "text/plain": [
              "(-1.001, 0.0]    215371\n",
              "(0.0, 2.0]        87868\n",
              "(2.0, 5.0]         4230\n",
              "(5.0, 100.0]         42\n",
              "Name: CNT_CHILDREN_GROUP, dtype: int64"
            ]
          },
          "metadata": {
            "tags": []
          },
          "execution_count": 8
        }
      ]
    },
    {
      "cell_type": "code",
      "metadata": {
        "collapsed": true,
        "colab": {
          "base_uri": "https://localhost:8080/"
        },
        "id": "Zoox0ha7_LHz",
        "outputId": "31e1cd16-fbb1-487e-8c0a-553572b631cb"
      },
      "source": [
        "#2-1\n",
        "\"\"\"\n",
        "Your code here\n",
        "\"\"\"\n",
        "grp = [\"CNT_CHILDREN_GROUP\",\"TARGET\"]\n",
        "\n",
        "grouped_df = app_train.groupby(grp)['AMT_INCOME_TOTAL']\n",
        "grouped_df.mean()"
      ],
      "execution_count": 9,
      "outputs": [
        {
          "output_type": "execute_result",
          "data": {
            "text/plain": [
              "CNT_CHILDREN_GROUP  TARGET\n",
              "(-1.001, 0.0]       0         166747.010980\n",
              "                    1         160804.210548\n",
              "(0.0, 2.0]          0         174590.584401\n",
              "                    1         176115.362720\n",
              "(2.0, 5.0]          0         175053.742913\n",
              "                    1         160677.385714\n",
              "(5.0, 100.0]        0         139159.090909\n",
              "                    1         180000.000000\n",
              "Name: AMT_INCOME_TOTAL, dtype: float64"
            ]
          },
          "metadata": {
            "tags": []
          },
          "execution_count": 9
        }
      ]
    },
    {
      "cell_type": "code",
      "metadata": {
        "collapsed": true,
        "colab": {
          "base_uri": "https://localhost:8080/",
          "height": 781
        },
        "id": "hESuoREc_LHz",
        "outputId": "c7e40519-c344-49b6-b433-c96ce1db0b69"
      },
      "source": [
        "#2-2\n",
        "\"\"\"\n",
        "Your code here\n",
        "\"\"\"\n",
        "plt_column =  [\"AMT_INCOME_TOTAL\"]\n",
        "plt_by = grp\n",
        "\n",
        "app_train.boxplot(column=plt_column, by = plt_by, showfliers = False, figsize=(12,12))\n",
        "plt.suptitle('')\n",
        "plt.show()"
      ],
      "execution_count": 10,
      "outputs": [
        {
          "output_type": "stream",
          "text": [
            "/usr/local/lib/python3.7/dist-packages/numpy/core/_asarray.py:83: VisibleDeprecationWarning: Creating an ndarray from ragged nested sequences (which is a list-or-tuple of lists-or-tuples-or ndarrays with different lengths or shapes) is deprecated. If you meant to do this, you must specify 'dtype=object' when creating the ndarray\n",
            "  return array(a, dtype, copy=False, order=order)\n"
          ],
          "name": "stderr"
        },
        {
          "output_type": "display_data",
          "data": {
            "image/png": "[encoded data removed]",
            "text/plain": [
              "<Figure size 864x864 with 1 Axes>"
            ]
          },
          "metadata": {
            "tags": [],
            "needs_background": "light"
          }
        }
      ]
    },
    {
      "cell_type": "code",
      "metadata": {
        "collapsed": true,
        "colab": {
          "base_uri": "https://localhost:8080/",
          "height": 204
        },
        "id": "ZmVWjijt_LHz",
        "outputId": "3a93abbc-2819-4530-fd75-ecc22438884b"
      },
      "source": [
        "#3\n",
        "\"\"\"\n",
        "Your code here\n",
        "\"\"\"\n",
        "app_train['AMT_INCOME_TOTAL_Z_BY_CHILDREN_GRP-TARGET'] = grouped_df.apply(lambda x: (x - x.mean()/ x.std()))\n",
        "\n",
        "app_train[['AMT_INCOME_TOTAL','AMT_INCOME_TOTAL_Z_BY_CHILDREN_GRP-TARGET']].head()"
      ],
      "execution_count": 12,
      "outputs": [
        {
          "output_type": "execute_result",
          "data": {
            "text/html": [
              "<div>\n",
              "<style scoped>\n",
              "    .dataframe tbody tr th:only-of-type {\n",
              "        vertical-align: middle;\n",
              "    }\n",
              "\n",
              "    .dataframe tbody tr th {\n",
              "        vertical-align: top;\n",
              "    }\n",
              "\n",
              "    .dataframe thead th {\n",
              "        text-align: right;\n",
              "    }\n",
              "</style>\n",
              "<table border=\"1\" class=\"dataframe\">\n",
              "  <thead>\n",
              "    <tr style=\"text-align: right;\">\n",
              "      <th></th>\n",
              "      <th>AMT_INCOME_TOTAL</th>\n",
              "      <th>AMT_INCOME_TOTAL_Z_BY_CHILDREN_GRP-TARGET</th>\n",
              "    </tr>\n",
              "  </thead>\n",
              "  <tbody>\n",
              "    <tr>\n",
              "      <th>0</th>\n",
              "      <td>202500.0</td>\n",
              "      <td>202498.104397</td>\n",
              "    </tr>\n",
              "    <tr>\n",
              "      <th>1</th>\n",
              "      <td>270000.0</td>\n",
              "      <td>269998.429580</td>\n",
              "    </tr>\n",
              "    <tr>\n",
              "      <th>2</th>\n",
              "      <td>67500.0</td>\n",
              "      <td>67498.429580</td>\n",
              "    </tr>\n",
              "    <tr>\n",
              "      <th>3</th>\n",
              "      <td>135000.0</td>\n",
              "      <td>134998.429580</td>\n",
              "    </tr>\n",
              "    <tr>\n",
              "      <th>4</th>\n",
              "      <td>121500.0</td>\n",
              "      <td>121498.429580</td>\n",
              "    </tr>\n",
              "  </tbody>\n",
              "</table>\n",
              "</div>"
            ],
            "text/plain": [
              "   AMT_INCOME_TOTAL  AMT_INCOME_TOTAL_Z_BY_CHILDREN_GRP-TARGET\n",
              "0          202500.0                              202498.104397\n",
              "1          270000.0                              269998.429580\n",
              "2           67500.0                               67498.429580\n",
              "3          135000.0                              134998.429580\n",
              "4          121500.0                              121498.429580"
            ]
          },
          "metadata": {
            "tags": []
          },
          "execution_count": 12
        }
      ]
    }
  ]
}