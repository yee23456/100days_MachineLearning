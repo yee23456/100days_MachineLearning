{
  "nbformat": 4,
  "nbformat_minor": 0,
  "metadata": {
    "kernelspec": {
      "display_name": "Python 3",
      "language": "python",
      "name": "python3"
    },
    "language_info": {
      "codemirror_mode": {
        "name": "ipython",
        "version": 3
      },
      "file_extension": ".py",
      "mimetype": "text/x-python",
      "name": "python",
      "nbconvert_exporter": "python",
      "pygments_lexer": "ipython3",
      "version": "3.7.0"
    },
    "colab": {
      "name": "Day_003_HW.ipynb",
      "provenance": [],
      "collapsed_sections": []
    }
  },
  "cells": [
    {
      "cell_type": "markdown",
      "metadata": {
        "id": "PXgJNF-Vswic"
      },
      "source": [
        "## [作業目標]\n",
        "持續接觸有關機器學習的相關專案與最新技術"
      ]
    },
    {
      "cell_type": "markdown",
      "metadata": {
        "id": "7uHhVlxiswie"
      },
      "source": [
        "## [作業重點]\n",
        "透過觀察頂尖公司的機器學習文章，來了解各公司是怎麼應用機器學習在實際的專案上"
      ]
    },
    {
      "cell_type": "markdown",
      "metadata": {
        "id": "8WvU4jedswie"
      },
      "source": [
        "## [作業]\n",
        "今天的作業希望大家能夠看看全球機器學習巨頭們在做的機器學習專案。以 google 為例，下圖是 Google 內部專案使用機器學習的數量，隨著時間進展，現在早已超過 2000 個專案在使用機器學習。"
      ]
    },
    {
      "cell_type": "markdown",
      "metadata": {
        "id": "k2yFH9Q_swie"
      },
      "source": [
        "![image](https://cdn-images-1.medium.com/max/800/1*U_L8qI8RmYS-MOBrYvXhSA.png)"
      ]
    },
    {
      "cell_type": "markdown",
      "metadata": {
        "id": "nF3b4ULOswif"
      },
      "source": [
        "底下幫同學整理幾間知名企業的 blog 或機器學習網站 (自行搜尋也可)，這些網站都會整理最新的機器學習專案或者是技術文章，請挑選一篇文章閱讀並試著回答\n",
        "1. 專案的目標？ (要解決什麼問題）\n",
        "2. 使用的技術是？ (只需知道名稱即可，例如：使用 CNN 卷積神經網路做影像分類)\n",
        "3. 資料來源？ "
      ]
    },
    {
      "cell_type": "markdown",
      "metadata": {
        "id": "w4pExN9mswif"
      },
      "source": [
        "- [Google AI blog](https://ai.googleblog.com/)\n",
        "- [Facebook Research blog](https://research.fb.com/blog/)\n",
        "- [Apple machine learning journal](https://machinelearning.apple.com/)\n",
        "- [機器之心](https://www.jiqizhixin.com/)\n",
        "- [雷鋒網](http://www.leiphone.com/category/ai)"
      ]
    },
    {
      "cell_type": "markdown",
      "metadata": {
        "id": "XurC35EEvodU"
      },
      "source": [
        "#ANS:\n",
        "\n",
        "1. Developing Real-Time, Automatic Sign Language Detection for Video Conferencing(開發一款在會議上讓失語者的自動手語偵測)\n",
        "\n",
        "2. 德語手語語料庫(DGS)、線性回歸模型、長短期記憶(LSTM)架構\n",
        "\n",
        "3. https://ai.googleblog.com/2020/10/developing-real-time-automatic-sign.html"
      ]
    }
  ]
}